{
  "cells": [
    {
      "cell_type": "markdown",
      "id": "215a26d2",
      "metadata": {
        "id": "215a26d2"
      },
      "source": [
        "\n",
        "# PySpark Data Engineering Practice: End-to-End Hands-On\n",
        "\n",
        "Welcome to this hands-on PySpark data engineering practice series! This notebook (and the series) is designed to help you master real-world data engineering skills using PySpark, with a focus on practical, interview-style scenarios.\n",
        "\n",
        "## What You'll Do\n",
        "\n",
        "- Work with realistic, joinable datasets (Customers, Orders, Products, Order Items, Employees, Transactions) containing intentional data quality issues.\n",
        "- Practice a wide range of data engineering concepts, from data cleaning and transformation to advanced aggregations, joins, UDFs, Spark SQL, and performance optimization.\n",
        "- Learn by doing: Each topic includes explanations, sample code, practice questions, expected outputs, and additional challenges.\n",
        "\n",
        "## How to open this setup in Google colab\n",
        "\n",
        "- Go to Google Colab (https://colab.research.google.com/). Sign up if you haven't.\n",
        "- In Colab, go to \"File\" -> \"Open notebook\".\n",
        "- Select the \"GitHub\" tab.\n",
        "- Search for the repository icyanide9/de-practice.\n",
        "- Navigate to the .ipynb file and select it to open.\n",
        "- Start with Chapter 1.\n",
        "- You can either make a copy of this notebook to your drive or store it in git\n",
        "\n",
        "## Important Instructions\n",
        "- Avoid using AI for code completion as this is for your own learning\n",
        "- Sample syntax is for illustration only and uses generic DataFrame names (e.g., `df`, `input_df`).\n",
        "- Always use the actual DataFrame names provided in the practice questions (e.g., `customers_df`, `orders_df`).\n",
        "- Play around and try out a few more for your understanding."
      ]
    },
    {
      "cell_type": "markdown",
      "id": "ANiCqFOEm7R-",
      "metadata": {
        "id": "ANiCqFOEm7R-"
      },
      "source": [
        "## Please execute code from below two cells for downloading data and initializing\n"
      ]
    },
    {
      "cell_type": "code",
      "execution_count": null,
      "id": "70c6d64b",
      "metadata": {
        "colab": {
          "base_uri": "https://localhost:8080/"
        },
        "collapsed": true,
        "id": "70c6d64b",
        "outputId": "68fdb1b6-9de2-4fde-e6e6-e6c60cd8e5c2"
      },
      "outputs": [
        {
          "name": "stdout",
          "output_type": "stream",
          "text": [
            "--2025-05-21 06:30:10--  https://raw.githubusercontent.com/icyanide9/de-practice/refs/heads/main/customers.csv\n",
            "Resolving raw.githubusercontent.com (raw.githubusercontent.com)... 185.199.108.133, 185.199.109.133, 185.199.110.133, ...\n",
            "Connecting to raw.githubusercontent.com (raw.githubusercontent.com)|185.199.108.133|:443... connected.\n",
            "HTTP request sent, awaiting response... 200 OK\n",
            "Length: 1780 (1.7K) [text/plain]\n",
            "Saving to: ‘customers.csv.1’\n",
            "\n",
            "\r\n",
            "customers.csv.1       0%[                    ]       0  --.-KB/s               \r\n",
            "customers.csv.1     100%[===================>]   1.74K  --.-KB/s    in 0s      \n",
            "\n",
            "2025-05-21 06:30:10 (26.1 MB/s) - ‘customers.csv.1’ saved [1780/1780]\n",
            "\n",
            "--2025-05-21 06:30:10--  https://raw.githubusercontent.com/icyanide9/de-practice/refs/heads/main/products.csv\n",
            "Resolving raw.githubusercontent.com (raw.githubusercontent.com)... 185.199.108.133, 185.199.109.133, 185.199.110.133, ...\n",
            "Connecting to raw.githubusercontent.com (raw.githubusercontent.com)|185.199.108.133|:443... connected.\n",
            "HTTP request sent, awaiting response... 200 OK\n",
            "Length: 806 [text/plain]\n",
            "Saving to: ‘products.csv’\n",
            "\n",
            "products.csv        100%[===================>]     806  --.-KB/s    in 0s      \n",
            "\n",
            "2025-05-21 06:30:10 (30.4 MB/s) - ‘products.csv’ saved [806/806]\n",
            "\n",
            "--2025-05-21 06:30:10--  https://raw.githubusercontent.com/icyanide9/de-practice/refs/heads/main/orders.csv\n",
            "Resolving raw.githubusercontent.com (raw.githubusercontent.com)... 185.199.111.133, 185.199.109.133, 185.199.110.133, ...\n",
            "Connecting to raw.githubusercontent.com (raw.githubusercontent.com)|185.199.111.133|:443... connected.\n",
            "HTTP request sent, awaiting response... 200 OK\n",
            "Length: 1046 (1.0K) [text/plain]\n",
            "Saving to: ‘orders.csv’\n",
            "\n",
            "orders.csv          100%[===================>]   1.02K  --.-KB/s    in 0s      \n",
            "\n",
            "2025-05-21 06:30:10 (43.0 MB/s) - ‘orders.csv’ saved [1046/1046]\n",
            "\n",
            "--2025-05-21 06:30:10--  https://raw.githubusercontent.com/icyanide9/de-practice/refs/heads/main/order_items.csv\n",
            "Resolving raw.githubusercontent.com (raw.githubusercontent.com)... 185.199.108.133, 185.199.109.133, 185.199.110.133, ...\n",
            "Connecting to raw.githubusercontent.com (raw.githubusercontent.com)|185.199.108.133|:443... connected.\n",
            "HTTP request sent, awaiting response... 200 OK\n",
            "Length: 528 [text/plain]\n",
            "Saving to: ‘order_items.csv’\n",
            "\n",
            "order_items.csv     100%[===================>]     528  --.-KB/s    in 0s      \n",
            "\n",
            "2025-05-21 06:30:10 (12.4 MB/s) - ‘order_items.csv’ saved [528/528]\n",
            "\n",
            "--2025-05-21 06:30:10--  https://raw.githubusercontent.com/icyanide9/de-practice/refs/heads/main/employees.csv\n",
            "Resolving raw.githubusercontent.com (raw.githubusercontent.com)... 185.199.108.133, 185.199.109.133, 185.199.110.133, ...\n",
            "Connecting to raw.githubusercontent.com (raw.githubusercontent.com)|185.199.108.133|:443... connected.\n",
            "HTTP request sent, awaiting response... 200 OK\n",
            "Length: 900 [text/plain]\n",
            "Saving to: ‘employees.csv’\n",
            "\n",
            "employees.csv       100%[===================>]     900  --.-KB/s    in 0s      \n",
            "\n",
            "2025-05-21 06:30:10 (49.0 MB/s) - ‘employees.csv’ saved [900/900]\n",
            "\n",
            "--2025-05-21 06:30:10--  https://raw.githubusercontent.com/icyanide9/de-practice/refs/heads/main/transactions.csv\n",
            "Resolving raw.githubusercontent.com (raw.githubusercontent.com)... 185.199.109.133, 185.199.110.133, 185.199.111.133, ...\n",
            "Connecting to raw.githubusercontent.com (raw.githubusercontent.com)|185.199.109.133|:443... connected.\n",
            "HTTP request sent, awaiting response... 200 OK\n",
            "Length: 1472 (1.4K) [text/plain]\n",
            "Saving to: ‘transactions.csv’\n",
            "\n",
            "transactions.csv    100%[===================>]   1.44K  --.-KB/s    in 0s      \n",
            "\n",
            "2025-05-21 06:30:11 (21.6 MB/s) - ‘transactions.csv’ saved [1472/1472]\n",
            "\n"
          ]
        }
      ],
      "source": [
        "!wget https://raw.githubusercontent.com/icyanide9/de-practice/refs/heads/main/customers.csv\n",
        "!wget https://raw.githubusercontent.com/icyanide9/de-practice/refs/heads/main/products.csv\n",
        "!wget https://raw.githubusercontent.com/icyanide9/de-practice/refs/heads/main/orders.csv\n",
        "!wget https://raw.githubusercontent.com/icyanide9/de-practice/refs/heads/main/order_items.csv\n",
        "!wget https://raw.githubusercontent.com/icyanide9/de-practice/refs/heads/main/employees.csv\n",
        "!wget https://raw.githubusercontent.com/icyanide9/de-practice/refs/heads/main/transactions.csv\n"
      ]
    },
    {
      "cell_type": "code",
      "execution_count": null,
      "id": "0e5c1c96",
      "metadata": {
        "colab": {
          "base_uri": "https://localhost:8080/"
        },
        "id": "0e5c1c96",
        "outputId": "17ded9ff-53da-46dd-96f1-f2b4069b28e1"
      },
      "outputs": [
        {
          "name": "stdout",
          "output_type": "stream",
          "text": [
            "Requirement already satisfied: pyspark in /usr/local/lib/python3.11/dist-packages (3.5.1)\n",
            "Requirement already satisfied: py4j==0.10.9.7 in /usr/local/lib/python3.11/dist-packages (from pyspark) (0.10.9.7)\n"
          ]
        }
      ],
      "source": [
        "\n",
        "# Install PySpark if not already installed\n",
        "!pip install pyspark\n",
        "\n",
        "from pyspark.sql import SparkSession\n",
        "from pyspark.sql.functions import *\n",
        "from pyspark.sql.types import *\n",
        "\n",
        "spark = SparkSession.builder.appName(\"PySpark Data Engineering Practice\").getOrCreate()\n",
        "\n",
        "# Load the files into dataframe\n",
        "customers_df = spark.read.csv(\"customers.csv\", header=True, inferSchema=True)\n",
        "products_df = spark.read.csv(\"products.csv\", header=True, inferSchema=True)\n",
        "orders_df = spark.read.csv(\"orders.csv\", header=True, inferSchema=True)\n",
        "order_items_df = spark.read.csv(\"order_items.csv\", header=True, inferSchema=True)\n",
        "employees_df = spark.read.csv(\"employees.csv\", header=True, inferSchema=True)\n",
        "transactions_df = spark.read.csv(\"transactions.csv\", header=True, inferSchema=True)"
      ]
    },
    {
      "cell_type": "code",
      "execution_count": null,
      "id": "RWlX4XkIic7C",
      "metadata": {
        "id": "RWlX4XkIic7C"
      },
      "outputs": [],
      "source": []
    },
    {
      "cell_type": "markdown",
      "id": "7c4e39a9",
      "metadata": {
        "id": "7c4e39a9"
      },
      "source": [
        "\n",
        "## Table Overview\n",
        "\n",
        "**customers**\n",
        "Stores customer details: customer_id, name, email, phone, address, registration_date, status.\n",
        "*Issues included: missing values, duplicates, invalid formats, inconsistent phone numbers.*\n",
        "\n",
        "**products**\n",
        "Product catalog: product_id, product_name, category, price, stock_quantity.\n",
        "*Issues included: duplicates, missing values, zero/invalid values, inconsistent capitalization.*\n",
        "\n",
        "**orders**\n",
        "Customer orders: order_id, customer_id, order_date, order_amount, order_status, payment_method.\n",
        "*Issues included: duplicates, unknown/missing values, zero/invalid values, foreign key issues.*\n",
        "\n",
        "**order_items**\n",
        "Items in each order: order_item_id, order_id, product_id, quantity, item_total.\n",
        "*Issues included: duplicates, zero/invalid values, foreign key issues.*\n",
        "\n",
        "**employees**\n",
        "Employee details: employee_id, name, department, hire_date, salary, manager_id.\n",
        "*Issues included: duplicates, missing values, zero/invalid values, inconsistent department names.*\n",
        "\n",
        "**transactions**\n",
        "Customer transactions: transaction_id, customer_id, transaction_date, amount, transaction_type, location, created_at (timestamp).\n",
        "*Issues included: duplicates, missing/unknown/invalid values, foreign key issues, timestamp for time-based operations.*\n"
      ]
    },
    {
      "cell_type": "markdown",
      "id": "3cf22252",
      "metadata": {
        "id": "3cf22252"
      },
      "source": [
        "\n",
        "## Topics Covered in This Series\n",
        "\n",
        "This series is organized into five main chapters, each focusing on a core area of PySpark data engineering:\n",
        "\n",
        "1. **Data Transformation**\n",
        "   Use PySpark functions for cleaning, transforming, and enriching data.\n",
        "   *Topics: data cleaning, type conversion, string/date manipulation, filtering, new columns, renaming, sorting, sampling, etc.*\n",
        "\n",
        "2. **Data Aggregation**\n",
        "   Practice using `groupBy`, `agg`, `pivot`, and window functions to perform aggregations and derive insights.\n",
        "\n",
        "3. **Joining Data**\n",
        "   Master different types of joins (inner, outer, left, right) to combine data from multiple DataFrames.\n",
        "\n",
        "4. **User-Defined Functions (UDFs)**\n",
        "   Learn how to create and apply UDFs for custom data transformations.\n",
        "\n",
        "5. **Spark SQL**\n",
        "   Practice writing SQL queries against Spark DataFrames using `spark.sql`.\n",
        "\n",
        "6. **Performance Optimization**\n",
        "   Explore techniques like partitioning, caching, and broadcasting to improve query performance.\n",
        "\n",
        "---\n",
        "\n",
        "Each chapter will follow this structure for every concept:\n",
        "- **Concept Explanation**\n",
        "- **Sample Syntax**\n",
        "- **Practice Question**\n",
        "- **Expected Output**\n",
        "- **Additional Challenge**\n",
        "\n",
        "---\n",
        "\n",
        "**Let’s get started!**\n"
      ]
    },
    {
      "cell_type": "markdown",
      "id": "cf257c6a",
      "metadata": {
        "id": "cf257c6a"
      },
      "source": [
        "# Chapter 1: Data Transformation"
      ]
    },
    {
      "cell_type": "markdown",
      "id": "aab6185c",
      "metadata": {
        "id": "aab6185c"
      },
      "source": [
        "\n",
        "## 1. Data Cleaning\n",
        "\n",
        "**Concept Explanation:**  \n",
        "Data cleaning is the process of identifying and correcting (or removing) errors and inconsistencies in data to improve its quality. Common tasks include handling missing values, removing duplicates, standardizing formats, and correcting typos.\n"
      ]
    },
    {
      "cell_type": "code",
      "execution_count": null,
      "id": "08851ced",
      "metadata": {
        "id": "08851ced"
      },
      "outputs": [],
      "source": [
        "\n",
        "# Sample Syntax\n",
        "# Remove duplicate customers\n",
        "df = df.dropDuplicates()\n",
        "\n",
        "# Drop rows with missing email\n",
        "df = df.dropna(subset=[\"col_name\"])\n",
        "\n",
        "# Fill missing phone numbers with 'Unknown'\n",
        "df = df.fillna({\"col_name\": \"Unknown\"})\n"
      ]
    },
    {
      "cell_type": "markdown",
      "id": "007301ee",
      "metadata": {
        "id": "007301ee"
      },
      "source": [
        "\n",
        "**Practice Question:**  \n",
        "Clean the `customers` DataFrame by:\n",
        "- Removing duplicate records (based on all columns)\n",
        "- Dropping rows where the `name` or `email` is missing\n",
        "- Filling missing `phone` values with \"Unknown\"\n"
      ]
    },
    {
      "cell_type": "markdown",
      "id": "619272a2",
      "metadata": {
        "id": "619272a2"
      },
      "source": [
        "\n",
        "**Expected Output:**  \n",
        "A cleaned DataFrame with no duplicate customers, no missing names or emails, and all phone numbers filled (no nulls).\n"
      ]
    },
    {
      "cell_type": "markdown",
      "id": "cda71b88",
      "metadata": {
        "id": "cda71b88"
      },
      "source": [
        "\n",
        "**Additional Challenge:**  \n",
        "Standardize all email addresses to lowercase and remove any leading/trailing spaces in the `name` column.\n"
      ]
    },
    {
      "cell_type": "code",
      "execution_count": null,
      "id": "Et0Y60uQkzOP",
      "metadata": {
        "id": "Et0Y60uQkzOP"
      },
      "outputs": [],
      "source": [
        "# Practice here\n",
        "#customers_df = customers_df.dropDuplicates()\n",
        "customers_df.show()"
      ]
    },
    {
      "cell_type": "markdown",
      "id": "3a8c658f",
      "metadata": {
        "id": "3a8c658f"
      },
      "source": [
        "\n",
        "## 2. Data Type Conversion\n",
        "\n",
        "**Concept Explanation:**  \n",
        "Data type conversion ensures that each column in your DataFrame has the correct data type for analysis and processing. For example, converting a string date to a DateType, or a string number to IntegerType.\n"
      ]
    },
    {
      "cell_type": "code",
      "execution_count": null,
      "id": "3344239a",
      "metadata": {
        "id": "3344239a"
      },
      "outputs": [],
      "source": [
        "\n",
        "from pyspark.sql.functions import col, to_date\n",
        "\n",
        "# Convert registration_date from string to date\n",
        "df = df.withColumn(\"col\", to_date(col(\"col\"), \"yyyy-MM-dd\"))\n",
        "\n",
        "# Convert price from string to float\n",
        "df = df.withColumn(\"col\", col(\"col\").cast(\"float\"))\n"
      ]
    },
    {
      "cell_type": "markdown",
      "id": "5e7c2d99",
      "metadata": {
        "id": "5e7c2d99"
      },
      "source": [
        "\n",
        "**Practice Question:**  \n",
        "Convert the following columns to appropriate types:\n",
        "- `registration_date` in `customers` to DateType\n",
        "- `price` in `products` to FloatType\n",
        "- `order_amount` in `orders` to FloatType\n"
      ]
    },
    {
      "cell_type": "markdown",
      "id": "370211be",
      "metadata": {
        "id": "370211be"
      },
      "source": [
        "\n",
        "**Expected Output:**  \n",
        "The specified columns should have the correct data types (date or float) in their respective DataFrames.\n"
      ]
    },
    {
      "cell_type": "markdown",
      "id": "c45311e8",
      "metadata": {
        "id": "c45311e8"
      },
      "source": [
        "\n",
        "**Additional Challenge:**  \n",
        "Convert the `created_at` column in `transactions` to a TimestampType.\n"
      ]
    },
    {
      "cell_type": "code",
      "execution_count": null,
      "id": "teO3pg-slKPt",
      "metadata": {
        "id": "teO3pg-slKPt"
      },
      "outputs": [],
      "source": [
        "# Practice here\n"
      ]
    },
    {
      "cell_type": "markdown",
      "id": "8d23b219",
      "metadata": {
        "id": "8d23b219"
      },
      "source": [
        "\n",
        "## 3. String Manipulation\n",
        "\n",
        "**Concept Explanation:**  \n",
        "String manipulation involves extracting, replacing, or transforming text data. PySpark provides functions for trimming, changing case, extracting substrings, and more.\n"
      ]
    },
    {
      "cell_type": "code",
      "execution_count": null,
      "id": "ef80c1b4",
      "metadata": {
        "id": "ef80c1b4"
      },
      "outputs": [],
      "source": [
        "\n",
        "from pyspark.sql.functions import lower, trim, substring, split\n",
        "\n",
        "# Extract email domain\n",
        "df = df.withColumn(\"col_name\", split(col(\"col_name\"), \"@\")[1])\n",
        "\n",
        "# Trim spaces from name\n",
        "df = df.withColumn(\"new_col_name\", trim(col(\"col_name\")))\n",
        "\n",
        "# Convert product_name to uppercase\n",
        "df = df.withColumn(\"new_col_name\", upper(col(\"col_name\")))\n"
      ]
    },
    {
      "cell_type": "markdown",
      "id": "c3b7268a",
      "metadata": {
        "id": "c3b7268a"
      },
      "source": [
        "\n",
        "**Practice Question:**  \n",
        "For the `customers` DataFrame:\n",
        "- Create a new column `email_domain` that contains only the domain part of the email.\n",
        "- Trim any leading/trailing spaces from the `name` column.\n"
      ]
    },
    {
      "cell_type": "markdown",
      "id": "ba5606b7",
      "metadata": {
        "id": "ba5606b7"
      },
      "source": [
        "\n",
        "**Expected Output:**  \n",
        "A DataFrame with a new `email_domain` column and all names properly trimmed.\n"
      ]
    },
    {
      "cell_type": "markdown",
      "id": "28aa0ea6",
      "metadata": {
        "id": "28aa0ea6"
      },
      "source": [
        "\n",
        "**Additional Challenge:**  \n",
        "For the `products` DataFrame, create a new column `short_name` that contains the first 5 characters of the product name in uppercase.\n"
      ]
    },
    {
      "cell_type": "code",
      "execution_count": null,
      "id": "65lBcDe4lPQy",
      "metadata": {
        "id": "65lBcDe4lPQy"
      },
      "outputs": [],
      "source": [
        "# Practice here\n"
      ]
    },
    {
      "cell_type": "markdown",
      "id": "956501ed",
      "metadata": {
        "id": "956501ed"
      },
      "source": [
        "\n",
        "## 4. Filtering and Selection\n",
        "\n",
        "**Concept Explanation:**  \n",
        "Filtering and selection allow you to retrieve specific rows or columns based on conditions, such as selecting only active customers or orders above a certain amount.\n"
      ]
    },
    {
      "cell_type": "code",
      "execution_count": null,
      "id": "f236528f",
      "metadata": {
        "id": "f236528f"
      },
      "outputs": [],
      "source": [
        "\n",
        "# Select only active customers\n",
        "df = df.filter(col(\"col_name\") == \"Active\")\n",
        "\n",
        "# Select orders with amount greater than 100\n",
        "df = df.filter(col(\"col_name\") > 100)\n",
        "\n",
        "# Select specific columns\n",
        "df = df.select(\"col_name\", \"col_name\", \"col_name\")\n"
      ]
    },
    {
      "cell_type": "markdown",
      "id": "af061ced",
      "metadata": {
        "id": "af061ced"
      },
      "source": [
        "\n",
        "**Practice Question:**  \n",
        "From the `orders` DataFrame, select all orders with `order_amount` greater than 100 and `order_status` as \"Completed\".\n"
      ]
    },
    {
      "cell_type": "markdown",
      "id": "97e488b4",
      "metadata": {
        "id": "97e488b4"
      },
      "source": [
        "\n",
        "**Expected Output:**  \n",
        "A DataFrame containing only completed orders with an amount greater than 100.\n"
      ]
    },
    {
      "cell_type": "markdown",
      "id": "0e48a7c5",
      "metadata": {
        "id": "0e48a7c5"
      },
      "source": [
        "\n",
        "**Additional Challenge:**  \n",
        "From the `customers` DataFrame, select all customers who registered after \"2022-01-01\" and have status \"Active\".\n"
      ]
    },
    {
      "cell_type": "code",
      "execution_count": null,
      "id": "eDJFCx2AlQaa",
      "metadata": {
        "id": "eDJFCx2AlQaa"
      },
      "outputs": [],
      "source": [
        "# Practice here\n"
      ]
    },
    {
      "cell_type": "markdown",
      "id": "9c3f3b15",
      "metadata": {
        "id": "9c3f3b15"
      },
      "source": [
        "\n",
        "## 5. Creating New Columns\n",
        "\n",
        "**Concept Explanation:**  \n",
        "Creating new columns allows you to derive additional information from existing data, such as calculating tenure, categorizing values, or combining fields.\n"
      ]
    },
    {
      "cell_type": "code",
      "execution_count": null,
      "id": "2a6da644",
      "metadata": {
        "id": "2a6da644"
      },
      "outputs": [],
      "source": [
        "\n",
        "from pyspark.sql.functions import year, when\n",
        "\n",
        "# Calculate customer tenure in years\n",
        "df = df.withColumn(\"col_name\", 2025 - year(col(\"col_name\")))\n",
        "\n",
        "# Categorize order amount\n",
        "df = df.withColumn(\n",
        "    \"col_name\",\n",
        "    when(col(\"col_name\") > 200, \"Large\")\n",
        "    .when(col(\"col_name\") > 50, \"Medium\")\n",
        "    .otherwise(\"Small\")\n",
        ")\n"
      ]
    },
    {
      "cell_type": "markdown",
      "id": "82820fee",
      "metadata": {
        "id": "82820fee"
      },
      "source": [
        "\n",
        "**Practice Question:**  \n",
        "Add a new column `tenure_years` to the `customers` DataFrame, representing the number of years since registration (assume current year is 2025).\n"
      ]
    },
    {
      "cell_type": "markdown",
      "id": "289ee9e4",
      "metadata": {
        "id": "289ee9e4"
      },
      "source": [
        "\n",
        "**Expected Output:**  \n",
        "A DataFrame with a new `tenure_years` column showing the correct tenure for each customer.\n"
      ]
    },
    {
      "cell_type": "markdown",
      "id": "3cd6d1cd",
      "metadata": {
        "id": "3cd6d1cd"
      },
      "source": [
        "\n",
        "**Additional Challenge:**  \n",
        "In the `orders` DataFrame, add a column `is_high_value` that is `True` if `order_amount` is greater than 250, otherwise `False`.\n"
      ]
    },
    {
      "cell_type": "code",
      "execution_count": null,
      "id": "uGzkocYTlRgH",
      "metadata": {
        "id": "uGzkocYTlRgH"
      },
      "outputs": [],
      "source": [
        "# Practice here\n"
      ]
    },
    {
      "cell_type": "markdown",
      "id": "8ce4eed4",
      "metadata": {
        "id": "8ce4eed4"
      },
      "source": [
        "\n",
        "## 6. Renaming Columns\n",
        "\n",
        "**Concept Explanation:**  \n",
        "Renaming columns improves clarity and consistency in your DataFrames, especially when preparing data for downstream processes.\n"
      ]
    },
    {
      "cell_type": "code",
      "execution_count": null,
      "id": "cf88880e",
      "metadata": {
        "id": "cf88880e"
      },
      "outputs": [],
      "source": [
        "\n",
        "# Rename 'name' to 'customer_name'\n",
        "df = df.withColumnRenamed(\"col_name\", \"col_name\")\n",
        "\n",
        "# Rename multiple columns\n",
        "df = df.withColumnRenamed(\"col_name\", \"col_name\").withColumnRenamed(\"col_name\", \"col_name\")\n"
      ]
    },
    {
      "cell_type": "markdown",
      "id": "f6838113",
      "metadata": {
        "id": "f6838113"
      },
      "source": [
        "\n",
        "**Practice Question:**  \n",
        "Rename the `name` column in the `customers` DataFrame to `customer_name`.\n"
      ]
    },
    {
      "cell_type": "markdown",
      "id": "1347a86f",
      "metadata": {
        "id": "1347a86f"
      },
      "source": [
        "\n",
        "**Expected Output:**  \n",
        "A DataFrame where the column is now called `customer_name`.\n"
      ]
    },
    {
      "cell_type": "markdown",
      "id": "457a10c3",
      "metadata": {
        "id": "457a10c3"
      },
      "source": [
        "\n",
        "**Additional Challenge:**  \n",
        "Rename the `order_amount` column in the `orders` DataFrame to `total_amount`.\n"
      ]
    },
    {
      "cell_type": "code",
      "execution_count": null,
      "id": "Q8jmfqrDlSap",
      "metadata": {
        "id": "Q8jmfqrDlSap"
      },
      "outputs": [],
      "source": [
        "# Practice here\n"
      ]
    },
    {
      "cell_type": "markdown",
      "id": "9c356d59",
      "metadata": {
        "id": "9c356d59"
      },
      "source": [
        "\n",
        "## 7. Sorting Data\n",
        "\n",
        "**Concept Explanation:**  \n",
        "Sorting arranges your data in a specific order based on one or more columns, which is useful for reporting, ranking, or preparing data for further analysis.\n"
      ]
    },
    {
      "cell_type": "code",
      "execution_count": null,
      "id": "e52820c8",
      "metadata": {
        "id": "e52820c8"
      },
      "outputs": [],
      "source": [
        "\n",
        "# Sort customers by registration_date descending\n",
        "df = df.orderBy(col(\"col_name\").desc())\n",
        "\n",
        "# Sort products by price ascending\n",
        "df = df.orderBy(\"col_name\")\n"
      ]
    },
    {
      "cell_type": "markdown",
      "id": "abb9a020",
      "metadata": {
        "id": "abb9a020"
      },
      "source": [
        "\n",
        "**Practice Question:**  \n",
        "Sort the `products` DataFrame by `price` in descending order.\n"
      ]
    },
    {
      "cell_type": "markdown",
      "id": "7be3c0d5",
      "metadata": {
        "id": "7be3c0d5"
      },
      "source": [
        "\n",
        "**Expected Output:**  \n",
        "A DataFrame of products sorted from highest to lowest price.\n"
      ]
    },
    {
      "cell_type": "markdown",
      "id": "c337f30e",
      "metadata": {
        "id": "c337f30e"
      },
      "source": [
        "\n",
        "**Additional Challenge:**  \n",
        "Sort the `customers` DataFrame by `tenure_years` (from the previous task) in ascending order.\n"
      ]
    },
    {
      "cell_type": "code",
      "execution_count": null,
      "id": "_mnFQDUklTPg",
      "metadata": {
        "id": "_mnFQDUklTPg"
      },
      "outputs": [],
      "source": [
        "# Practice here\n"
      ]
    },
    {
      "cell_type": "markdown",
      "id": "42482305",
      "metadata": {
        "id": "42482305"
      },
      "source": [
        "\n",
        "## 8. Sampling Data\n",
        "\n",
        "**Concept Explanation:**  \n",
        "Sampling allows you to work with a subset of your data, which is useful for testing, prototyping, or when working with very large datasets.\n"
      ]
    },
    {
      "cell_type": "code",
      "execution_count": null,
      "id": "d3f71a03",
      "metadata": {
        "id": "d3f71a03"
      },
      "outputs": [],
      "source": [
        "\n",
        "# Take a random 10% sample of customers\n",
        "df = df.sample(fraction=0.1, seed=42)\n",
        "\n",
        "# Take a fixed number of rows\n",
        "df = df.limit(5)\n"
      ]
    },
    {
      "cell_type": "markdown",
      "id": "df80959c",
      "metadata": {
        "id": "df80959c"
      },
      "source": [
        "\n",
        "**Practice Question:**  \n",
        "Take a random sample of 5 customers from the `customers` DataFrame.\n"
      ]
    },
    {
      "cell_type": "markdown",
      "id": "b45cd80f",
      "metadata": {
        "id": "b45cd80f"
      },
      "source": [
        "\n",
        "**Expected Output:**  \n",
        "A DataFrame containing 5 randomly selected customers.\n"
      ]
    },
    {
      "cell_type": "markdown",
      "id": "2f551f9b",
      "metadata": {
        "id": "2f551f9b"
      },
      "source": [
        "\n",
        "**Additional Challenge:**  \n",
        "Take a 20% random sample of the `orders` DataFrame.\n"
      ]
    },
    {
      "cell_type": "code",
      "execution_count": null,
      "id": "2CqJpbzwlUh2",
      "metadata": {
        "id": "2CqJpbzwlUh2"
      },
      "outputs": [],
      "source": [
        "# Practice here\n"
      ]
    },
    {
      "cell_type": "markdown",
      "id": "1679fb73",
      "metadata": {
        "id": "1679fb73"
      },
      "source": [
        "\n",
        "## 9. Date Handling and Transformations\n",
        "\n",
        "**Concept Explanation:**  \n",
        "Date handling includes parsing strings to dates, extracting date parts, performing date arithmetic, formatting, and handling time zones or nulls.\n"
      ]
    },
    {
      "cell_type": "code",
      "execution_count": null,
      "id": "93e6acc5",
      "metadata": {
        "id": "93e6acc5"
      },
      "outputs": [],
      "source": [
        "\n",
        "from pyspark.sql.functions import to_date, year, month, datediff, current_date\n",
        "\n",
        "# Parse registration_date to date\n",
        "df = df.withColumn(\"col_name\", to_date(col(\"col_name\"), \"yyyy-MM-dd\"))\n",
        "\n",
        "# Extract year and month\n",
        "df = df.withColumn(\"col_name\", year(col(\"col_name\")))\n",
        "df = df.withColumn(\"col_name\", month(col(\"col_name\")))\n",
        "\n",
        "# Calculate days since registration\n",
        "df = df.withColumn(\"col_name\", datediff(current_date(), col(\"col_name\")))\n"
      ]
    },
    {
      "cell_type": "markdown",
      "id": "4cbff1cc",
      "metadata": {
        "id": "4cbff1cc"
      },
      "source": [
        "\n",
        "**Practice Question:**  \n",
        "For the `transactions` DataFrame, extract the year and month from the `created_at` timestamp into new columns `year` and `month`.\n"
      ]
    },
    {
      "cell_type": "markdown",
      "id": "5a8ae8af",
      "metadata": {
        "id": "5a8ae8af"
      },
      "source": [
        "\n",
        "**Expected Output:**  \n",
        "A DataFrame with two new columns: `year` and `month`, showing the year and month of each transaction.\n"
      ]
    },
    {
      "cell_type": "markdown",
      "id": "aaaa1692",
      "metadata": {
        "id": "aaaa1692"
      },
      "source": [
        "\n",
        "**Additional Challenge:**  \n",
        "Calculate the number of days between `transaction_date` and `created_at` for each transaction.\n"
      ]
    },
    {
      "cell_type": "code",
      "execution_count": null,
      "id": "m2DJbrRdlZ9N",
      "metadata": {
        "id": "m2DJbrRdlZ9N"
      },
      "outputs": [],
      "source": [
        "# Practice here\n"
      ]
    },
    {
      "cell_type": "markdown",
      "id": "163fc9af",
      "metadata": {
        "id": "163fc9af"
      },
      "source": [
        "\n",
        "## 10. Date Range Filtering\n",
        "\n",
        "**Concept Explanation:**  \n",
        "Date range filtering allows you to select records that fall within a specific date or timestamp range, which is common in time-based analyses.\n"
      ]
    },
    {
      "cell_type": "code",
      "execution_count": null,
      "id": "2efe0d70",
      "metadata": {
        "id": "2efe0d70"
      },
      "outputs": [],
      "source": [
        "\n",
        "from pyspark.sql.functions import to_date\n",
        "\n",
        "# Filter orders between two dates\n",
        "start_date = '2023-01-15'\n",
        "end_date = '2023-02-10'\n",
        "filtered_df = df.filter((col('date_col') >= start_date) & (col('date_col') <= end_date))\n"
      ]
    },
    {
      "cell_type": "markdown",
      "id": "2f60d4ce",
      "metadata": {
        "id": "2f60d4ce"
      },
      "source": [
        "\n",
        "**Practice Question:**  \n",
        "Filter the `orders` DataFrame to include only orders placed between '2023-01-20' and '2023-02-05' (inclusive).\n"
      ]
    },
    {
      "cell_type": "markdown",
      "id": "9e7e3594",
      "metadata": {
        "id": "9e7e3594"
      },
      "source": [
        "\n",
        "**Expected Output:**  \n",
        "A DataFrame containing only orders within the specified date range.\n"
      ]
    },
    {
      "cell_type": "markdown",
      "id": "1ce344a2",
      "metadata": {
        "id": "1ce344a2"
      },
      "source": [
        "\n",
        "**Additional Challenge:**  \n",
        "Filter the `transactions` DataFrame to include only transactions that occurred in February 2023.\n"
      ]
    },
    {
      "cell_type": "code",
      "execution_count": null,
      "id": "zkmsHk-glbFl",
      "metadata": {
        "id": "zkmsHk-glbFl"
      },
      "outputs": [],
      "source": [
        "# Practice here\n"
      ]
    }
  ],
  "metadata": {
    "colab": {
      "provenance": []
    },
    "kernelspec": {
      "display_name": "Python 3",
      "name": "python3"
    },
    "language_info": {
      "name": "python"
    }
  },
  "nbformat": 4,
  "nbformat_minor": 5
}
